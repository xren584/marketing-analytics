{
 "cells": [
  {
   "cell_type": "code",
   "execution_count": 1,
   "metadata": {},
   "outputs": [
    {
     "data": {
      "text/plain": [
       "'/Users/gavin'"
      ]
     },
     "execution_count": 1,
     "metadata": {},
     "output_type": "execute_result"
    }
   ],
   "source": [
    "import os \n",
    "import pandas as pd\n",
    "import numpy as np\n",
    "os.getcwd()\n"
   ]
  },
  {
   "cell_type": "code",
   "execution_count": 2,
   "metadata": {},
   "outputs": [],
   "source": [
    "os.chdir('/Users/gavin/Desktop/marketing analytics/final_customer_segmentation')"
   ]
  },
  {
   "cell_type": "code",
   "execution_count": 3,
   "metadata": {},
   "outputs": [],
   "source": [
    "sb = pd.read_csv('subscribers.csv')"
   ]
  },
  {
   "cell_type": "code",
   "execution_count": 4,
   "metadata": {},
   "outputs": [
    {
     "data": {
      "text/html": [
       "<div>\n",
       "<style scoped>\n",
       "    .dataframe tbody tr th:only-of-type {\n",
       "        vertical-align: middle;\n",
       "    }\n",
       "\n",
       "    .dataframe tbody tr th {\n",
       "        vertical-align: top;\n",
       "    }\n",
       "\n",
       "    .dataframe thead th {\n",
       "        text-align: right;\n",
       "    }\n",
       "</style>\n",
       "<table border=\"1\" class=\"dataframe\">\n",
       "  <thead>\n",
       "    <tr style=\"text-align: right;\">\n",
       "      <th></th>\n",
       "      <th>Unnamed: 0</th>\n",
       "      <th>subid</th>\n",
       "      <th>package_type</th>\n",
       "      <th>num_weekly_services_utilized</th>\n",
       "      <th>preferred_genre</th>\n",
       "      <th>intended_use</th>\n",
       "      <th>weekly_consumption_hour</th>\n",
       "      <th>num_ideal_streaming_services</th>\n",
       "      <th>age</th>\n",
       "      <th>male_TF</th>\n",
       "      <th>...</th>\n",
       "      <th>join_fee</th>\n",
       "      <th>language</th>\n",
       "      <th>payment_type</th>\n",
       "      <th>num_trial_days</th>\n",
       "      <th>current_sub_TF</th>\n",
       "      <th>payment_period</th>\n",
       "      <th>last_payment</th>\n",
       "      <th>next_payment</th>\n",
       "      <th>cancel_date</th>\n",
       "      <th>trial_completed</th>\n",
       "    </tr>\n",
       "  </thead>\n",
       "  <tbody>\n",
       "    <tr>\n",
       "      <th>0</th>\n",
       "      <td>162502</td>\n",
       "      <td>21724479</td>\n",
       "      <td>economy</td>\n",
       "      <td>NaN</td>\n",
       "      <td>comedy</td>\n",
       "      <td>access to exclusive content</td>\n",
       "      <td>NaN</td>\n",
       "      <td>NaN</td>\n",
       "      <td>NaN</td>\n",
       "      <td>False</td>\n",
       "      <td>...</td>\n",
       "      <td>NaN</td>\n",
       "      <td>ar</td>\n",
       "      <td>Standard Charter</td>\n",
       "      <td>14</td>\n",
       "      <td>True</td>\n",
       "      <td>1</td>\n",
       "      <td>2020-02-07 21:44:16</td>\n",
       "      <td>2020-06-07 21:44:16</td>\n",
       "      <td>NaN</td>\n",
       "      <td>True</td>\n",
       "    </tr>\n",
       "    <tr>\n",
       "      <th>1</th>\n",
       "      <td>380374</td>\n",
       "      <td>23383224</td>\n",
       "      <td>base</td>\n",
       "      <td>NaN</td>\n",
       "      <td>comedy</td>\n",
       "      <td>access to exclusive content</td>\n",
       "      <td>22.951579</td>\n",
       "      <td>NaN</td>\n",
       "      <td>70.0</td>\n",
       "      <td>False</td>\n",
       "      <td>...</td>\n",
       "      <td>0.3303</td>\n",
       "      <td>ar</td>\n",
       "      <td>NaN</td>\n",
       "      <td>14</td>\n",
       "      <td>True</td>\n",
       "      <td>1</td>\n",
       "      <td>2020-03-15 15:44:35</td>\n",
       "      <td>2020-07-15 15:44:35</td>\n",
       "      <td>NaN</td>\n",
       "      <td>True</td>\n",
       "    </tr>\n",
       "    <tr>\n",
       "      <th>2</th>\n",
       "      <td>496617</td>\n",
       "      <td>26844789</td>\n",
       "      <td>enhanced</td>\n",
       "      <td>3.0</td>\n",
       "      <td>regional</td>\n",
       "      <td>replace OTT</td>\n",
       "      <td>36.001186</td>\n",
       "      <td>2.0</td>\n",
       "      <td>25.0</td>\n",
       "      <td>True</td>\n",
       "      <td>...</td>\n",
       "      <td>0.1101</td>\n",
       "      <td>ar</td>\n",
       "      <td>NaN</td>\n",
       "      <td>14</td>\n",
       "      <td>False</td>\n",
       "      <td>0</td>\n",
       "      <td>NaN</td>\n",
       "      <td>NaN</td>\n",
       "      <td>NaN</td>\n",
       "      <td>True</td>\n",
       "    </tr>\n",
       "    <tr>\n",
       "      <th>3</th>\n",
       "      <td>356799</td>\n",
       "      <td>29417030</td>\n",
       "      <td>base</td>\n",
       "      <td>NaN</td>\n",
       "      <td>drama</td>\n",
       "      <td>replace OTT</td>\n",
       "      <td>20.051667</td>\n",
       "      <td>NaN</td>\n",
       "      <td>30.0</td>\n",
       "      <td>False</td>\n",
       "      <td>...</td>\n",
       "      <td>0.0367</td>\n",
       "      <td>ar</td>\n",
       "      <td>NaN</td>\n",
       "      <td>14</td>\n",
       "      <td>False</td>\n",
       "      <td>0</td>\n",
       "      <td>NaN</td>\n",
       "      <td>NaN</td>\n",
       "      <td>NaN</td>\n",
       "      <td>True</td>\n",
       "    </tr>\n",
       "    <tr>\n",
       "      <th>4</th>\n",
       "      <td>681701</td>\n",
       "      <td>26723159</td>\n",
       "      <td>base</td>\n",
       "      <td>4.0</td>\n",
       "      <td>comedy</td>\n",
       "      <td>replace OTT</td>\n",
       "      <td>22.951579</td>\n",
       "      <td>3.0</td>\n",
       "      <td>28.0</td>\n",
       "      <td>False</td>\n",
       "      <td>...</td>\n",
       "      <td>0.0367</td>\n",
       "      <td>ar</td>\n",
       "      <td>NaN</td>\n",
       "      <td>14</td>\n",
       "      <td>True</td>\n",
       "      <td>2</td>\n",
       "      <td>2020-02-19 12:57:07</td>\n",
       "      <td>2020-06-19 12:57:07</td>\n",
       "      <td>NaN</td>\n",
       "      <td>True</td>\n",
       "    </tr>\n",
       "  </tbody>\n",
       "</table>\n",
       "<p>5 rows × 31 columns</p>\n",
       "</div>"
      ],
      "text/plain": [
       "   Unnamed: 0     subid package_type  num_weekly_services_utilized  \\\n",
       "0      162502  21724479      economy                           NaN   \n",
       "1      380374  23383224         base                           NaN   \n",
       "2      496617  26844789     enhanced                           3.0   \n",
       "3      356799  29417030         base                           NaN   \n",
       "4      681701  26723159         base                           4.0   \n",
       "\n",
       "  preferred_genre                 intended_use  weekly_consumption_hour  \\\n",
       "0          comedy  access to exclusive content                      NaN   \n",
       "1          comedy  access to exclusive content                22.951579   \n",
       "2        regional                  replace OTT                36.001186   \n",
       "3           drama                  replace OTT                20.051667   \n",
       "4          comedy                  replace OTT                22.951579   \n",
       "\n",
       "   num_ideal_streaming_services   age male_TF  ... join_fee language  \\\n",
       "0                           NaN   NaN   False  ...      NaN       ar   \n",
       "1                           NaN  70.0   False  ...   0.3303       ar   \n",
       "2                           2.0  25.0    True  ...   0.1101       ar   \n",
       "3                           NaN  30.0   False  ...   0.0367       ar   \n",
       "4                           3.0  28.0   False  ...   0.0367       ar   \n",
       "\n",
       "       payment_type num_trial_days  current_sub_TF payment_period  \\\n",
       "0  Standard Charter             14            True              1   \n",
       "1               NaN             14            True              1   \n",
       "2               NaN             14           False              0   \n",
       "3               NaN             14           False              0   \n",
       "4               NaN             14            True              2   \n",
       "\n",
       "          last_payment         next_payment cancel_date trial_completed  \n",
       "0  2020-02-07 21:44:16  2020-06-07 21:44:16         NaN            True  \n",
       "1  2020-03-15 15:44:35  2020-07-15 15:44:35         NaN            True  \n",
       "2                  NaN                  NaN         NaN            True  \n",
       "3                  NaN                  NaN         NaN            True  \n",
       "4  2020-02-19 12:57:07  2020-06-19 12:57:07         NaN            True  \n",
       "\n",
       "[5 rows x 31 columns]"
      ]
     },
     "execution_count": 4,
     "metadata": {},
     "output_type": "execute_result"
    }
   ],
   "source": [
    "sb.head()"
   ]
  },
  {
   "cell_type": "code",
   "execution_count": 5,
   "metadata": {},
   "outputs": [
    {
     "data": {
      "text/plain": [
       "array(['economy', 'base', 'enhanced', nan], dtype=object)"
      ]
     },
     "execution_count": 5,
     "metadata": {},
     "output_type": "execute_result"
    }
   ],
   "source": [
    "categorical_features = sb['package_type']\n",
    "categorical_features.unique()"
   ]
  },
  {
   "cell_type": "code",
   "execution_count": 6,
   "metadata": {},
   "outputs": [
    {
     "data": {
      "text/html": [
       "<div>\n",
       "<style scoped>\n",
       "    .dataframe tbody tr th:only-of-type {\n",
       "        vertical-align: middle;\n",
       "    }\n",
       "\n",
       "    .dataframe tbody tr th {\n",
       "        vertical-align: top;\n",
       "    }\n",
       "\n",
       "    .dataframe thead th {\n",
       "        text-align: right;\n",
       "    }\n",
       "</style>\n",
       "<table border=\"1\" class=\"dataframe\">\n",
       "  <thead>\n",
       "    <tr style=\"text-align: right;\">\n",
       "      <th></th>\n",
       "      <th>Unnamed: 0</th>\n",
       "      <th>subid</th>\n",
       "      <th>package_type</th>\n",
       "      <th>num_weekly_services_utilized</th>\n",
       "      <th>preferred_genre</th>\n",
       "      <th>intended_use</th>\n",
       "      <th>weekly_consumption_hour</th>\n",
       "      <th>num_ideal_streaming_services</th>\n",
       "      <th>age</th>\n",
       "      <th>male_TF</th>\n",
       "      <th>...</th>\n",
       "      <th>payment_type</th>\n",
       "      <th>num_trial_days</th>\n",
       "      <th>current_sub_TF</th>\n",
       "      <th>payment_period</th>\n",
       "      <th>last_payment</th>\n",
       "      <th>next_payment</th>\n",
       "      <th>cancel_date</th>\n",
       "      <th>trial_completed</th>\n",
       "      <th>account_creation_month</th>\n",
       "      <th>account_creation_hour</th>\n",
       "    </tr>\n",
       "  </thead>\n",
       "  <tbody>\n",
       "    <tr>\n",
       "      <th>0</th>\n",
       "      <td>162502</td>\n",
       "      <td>21724479</td>\n",
       "      <td>economy</td>\n",
       "      <td>NaN</td>\n",
       "      <td>comedy</td>\n",
       "      <td>access to exclusive content</td>\n",
       "      <td>NaN</td>\n",
       "      <td>NaN</td>\n",
       "      <td>NaN</td>\n",
       "      <td>False</td>\n",
       "      <td>...</td>\n",
       "      <td>Standard Charter</td>\n",
       "      <td>14</td>\n",
       "      <td>True</td>\n",
       "      <td>1</td>\n",
       "      <td>2020-02-07 21:44:16</td>\n",
       "      <td>2020-06-07 21:44:16</td>\n",
       "      <td>NaN</td>\n",
       "      <td>True</td>\n",
       "      <td>1</td>\n",
       "      <td>21</td>\n",
       "    </tr>\n",
       "    <tr>\n",
       "      <th>1</th>\n",
       "      <td>380374</td>\n",
       "      <td>23383224</td>\n",
       "      <td>base</td>\n",
       "      <td>NaN</td>\n",
       "      <td>comedy</td>\n",
       "      <td>access to exclusive content</td>\n",
       "      <td>22.951579</td>\n",
       "      <td>NaN</td>\n",
       "      <td>70.0</td>\n",
       "      <td>False</td>\n",
       "      <td>...</td>\n",
       "      <td>NaN</td>\n",
       "      <td>14</td>\n",
       "      <td>True</td>\n",
       "      <td>1</td>\n",
       "      <td>2020-03-15 15:44:35</td>\n",
       "      <td>2020-07-15 15:44:35</td>\n",
       "      <td>NaN</td>\n",
       "      <td>True</td>\n",
       "      <td>3</td>\n",
       "      <td>15</td>\n",
       "    </tr>\n",
       "    <tr>\n",
       "      <th>2</th>\n",
       "      <td>496617</td>\n",
       "      <td>26844789</td>\n",
       "      <td>enhanced</td>\n",
       "      <td>3.0</td>\n",
       "      <td>regional</td>\n",
       "      <td>replace OTT</td>\n",
       "      <td>36.001186</td>\n",
       "      <td>2.0</td>\n",
       "      <td>25.0</td>\n",
       "      <td>True</td>\n",
       "      <td>...</td>\n",
       "      <td>NaN</td>\n",
       "      <td>14</td>\n",
       "      <td>False</td>\n",
       "      <td>0</td>\n",
       "      <td>NaN</td>\n",
       "      <td>NaN</td>\n",
       "      <td>NaN</td>\n",
       "      <td>True</td>\n",
       "      <td>12</td>\n",
       "      <td>16</td>\n",
       "    </tr>\n",
       "    <tr>\n",
       "      <th>3</th>\n",
       "      <td>356799</td>\n",
       "      <td>29417030</td>\n",
       "      <td>base</td>\n",
       "      <td>NaN</td>\n",
       "      <td>drama</td>\n",
       "      <td>replace OTT</td>\n",
       "      <td>20.051667</td>\n",
       "      <td>NaN</td>\n",
       "      <td>30.0</td>\n",
       "      <td>False</td>\n",
       "      <td>...</td>\n",
       "      <td>NaN</td>\n",
       "      <td>14</td>\n",
       "      <td>False</td>\n",
       "      <td>0</td>\n",
       "      <td>NaN</td>\n",
       "      <td>NaN</td>\n",
       "      <td>NaN</td>\n",
       "      <td>True</td>\n",
       "      <td>1</td>\n",
       "      <td>16</td>\n",
       "    </tr>\n",
       "    <tr>\n",
       "      <th>4</th>\n",
       "      <td>681701</td>\n",
       "      <td>26723159</td>\n",
       "      <td>base</td>\n",
       "      <td>4.0</td>\n",
       "      <td>comedy</td>\n",
       "      <td>replace OTT</td>\n",
       "      <td>22.951579</td>\n",
       "      <td>3.0</td>\n",
       "      <td>28.0</td>\n",
       "      <td>False</td>\n",
       "      <td>...</td>\n",
       "      <td>NaN</td>\n",
       "      <td>14</td>\n",
       "      <td>True</td>\n",
       "      <td>2</td>\n",
       "      <td>2020-02-19 12:57:07</td>\n",
       "      <td>2020-06-19 12:57:07</td>\n",
       "      <td>NaN</td>\n",
       "      <td>True</td>\n",
       "      <td>10</td>\n",
       "      <td>12</td>\n",
       "    </tr>\n",
       "  </tbody>\n",
       "</table>\n",
       "<p>5 rows × 32 columns</p>\n",
       "</div>"
      ],
      "text/plain": [
       "   Unnamed: 0     subid package_type  num_weekly_services_utilized  \\\n",
       "0      162502  21724479      economy                           NaN   \n",
       "1      380374  23383224         base                           NaN   \n",
       "2      496617  26844789     enhanced                           3.0   \n",
       "3      356799  29417030         base                           NaN   \n",
       "4      681701  26723159         base                           4.0   \n",
       "\n",
       "  preferred_genre                 intended_use  weekly_consumption_hour  \\\n",
       "0          comedy  access to exclusive content                      NaN   \n",
       "1          comedy  access to exclusive content                22.951579   \n",
       "2        regional                  replace OTT                36.001186   \n",
       "3           drama                  replace OTT                20.051667   \n",
       "4          comedy                  replace OTT                22.951579   \n",
       "\n",
       "   num_ideal_streaming_services   age male_TF  ...      payment_type  \\\n",
       "0                           NaN   NaN   False  ...  Standard Charter   \n",
       "1                           NaN  70.0   False  ...               NaN   \n",
       "2                           2.0  25.0    True  ...               NaN   \n",
       "3                           NaN  30.0   False  ...               NaN   \n",
       "4                           3.0  28.0   False  ...               NaN   \n",
       "\n",
       "  num_trial_days current_sub_TF payment_period         last_payment  \\\n",
       "0             14           True              1  2020-02-07 21:44:16   \n",
       "1             14           True              1  2020-03-15 15:44:35   \n",
       "2             14          False              0                  NaN   \n",
       "3             14          False              0                  NaN   \n",
       "4             14           True              2  2020-02-19 12:57:07   \n",
       "\n",
       "          next_payment  cancel_date  trial_completed account_creation_month  \\\n",
       "0  2020-06-07 21:44:16          NaN             True                      1   \n",
       "1  2020-07-15 15:44:35          NaN             True                      3   \n",
       "2                  NaN          NaN             True                     12   \n",
       "3                  NaN          NaN             True                      1   \n",
       "4  2020-06-19 12:57:07          NaN             True                     10   \n",
       "\n",
       "   account_creation_hour  \n",
       "0                     21  \n",
       "1                     15  \n",
       "2                     16  \n",
       "3                     16  \n",
       "4                     12  \n",
       "\n",
       "[5 rows x 32 columns]"
      ]
     },
     "execution_count": 6,
     "metadata": {},
     "output_type": "execute_result"
    }
   ],
   "source": [
    "sb['account_creation_date']=pd.to_datetime(sb['account_creation_date'], format='%Y-%m-%d %H:%M')\n",
    "sb['account_creation_month'] = pd.DatetimeIndex(sb['account_creation_date']).month\n",
    "sb['account_creation_hour'] = pd.DatetimeIndex(sb['account_creation_date']).hour\n",
    "sb= sb.drop(['account_creation_date'],axis=1)\n",
    "sb.head()"
   ]
  },
  {
   "cell_type": "markdown",
   "metadata": {},
   "source": [
    "# data preprocessing"
   ]
  },
  {
   "cell_type": "code",
   "execution_count": 7,
   "metadata": {},
   "outputs": [],
   "source": [
    "sb= sb.drop(['Unnamed: 0','cancel_date',\n",
    "              'last_payment',\n",
    "              'next_payment','language',\n",
    "              'payment_type','num_trial_days', 'trial_end_date','plan_type',\n",
    "              'months_per_bill_period', 'country','monthly_price','discount_price','trial_completed'],axis=1)"
   ]
  },
  {
   "cell_type": "code",
   "execution_count": 8,
   "metadata": {},
   "outputs": [],
   "source": [
    "sb.drop(sb[sb.join_fee < 0].index, inplace=True)\n",
    "sb.drop(sb[sb.age>100].index,inplace=True)"
   ]
  },
  {
   "cell_type": "code",
   "execution_count": 9,
   "metadata": {},
   "outputs": [],
   "source": [
    "sb[\"num_weekly_services_utilized\"].fillna(value=0, inplace = True) \n",
    "sb[\"weekly_consumption_hour\"].fillna(value=0, inplace = True) \n",
    "sb[\"num_ideal_streaming_services\"].fillna(value=0, inplace = True)\n",
    "sb.dropna(subset=['age'],inplace=True)\n",
    "sb.dropna(subset=['join_fee'],inplace=True)\n",
    "sb.dropna(inplace=True)"
   ]
  },
  {
   "cell_type": "code",
   "execution_count": 10,
   "metadata": {},
   "outputs": [
    {
     "name": "stdout",
     "output_type": "stream",
     "text": [
      "<class 'pandas.core.frame.DataFrame'>\n",
      "Int64Index: 143864 entries, 2 to 227627\n",
      "Data columns (total 18 columns):\n",
      " #   Column                        Non-Null Count   Dtype  \n",
      "---  ------                        --------------   -----  \n",
      " 0   subid                         143864 non-null  int64  \n",
      " 1   package_type                  143864 non-null  object \n",
      " 2   num_weekly_services_utilized  143864 non-null  float64\n",
      " 3   preferred_genre               143864 non-null  object \n",
      " 4   intended_use                  143864 non-null  object \n",
      " 5   weekly_consumption_hour       143864 non-null  float64\n",
      " 6   num_ideal_streaming_services  143864 non-null  float64\n",
      " 7   age                           143864 non-null  float64\n",
      " 8   male_TF                       143864 non-null  object \n",
      " 9   attribution_technical         143864 non-null  object \n",
      " 10  attribution_survey            143864 non-null  object \n",
      " 11  op_sys                        143864 non-null  object \n",
      " 12  initial_credit_card_declined  143864 non-null  bool   \n",
      " 13  join_fee                      143864 non-null  float64\n",
      " 14  current_sub_TF                143864 non-null  bool   \n",
      " 15  payment_period                143864 non-null  int64  \n",
      " 16  account_creation_month        143864 non-null  int64  \n",
      " 17  account_creation_hour         143864 non-null  int64  \n",
      "dtypes: bool(2), float64(5), int64(4), object(7)\n",
      "memory usage: 18.9+ MB\n"
     ]
    }
   ],
   "source": [
    "sb.info()"
   ]
  },
  {
   "cell_type": "code",
   "execution_count": 11,
   "metadata": {},
   "outputs": [],
   "source": [
    "sbbbb_orginal = sb.copy()"
   ]
  },
  {
   "cell_type": "code",
   "execution_count": 12,
   "metadata": {},
   "outputs": [],
   "source": [
    "sb=pd.get_dummies(sb, columns=['package_type','num_weekly_services_utilized', \n",
    "                                 'preferred_genre','intended_use','num_ideal_streaming_services',\n",
    "                                 'attribution_technical','attribution_survey','op_sys',\n",
    "                                 'join_fee'],drop_first=True)\n"
   ]
  },
  {
   "cell_type": "markdown",
   "metadata": {},
   "source": [
    "# Normalize"
   ]
  },
  {
   "cell_type": "code",
   "execution_count": 13,
   "metadata": {},
   "outputs": [],
   "source": [
    "import pandas as pd\n",
    "from sklearn import preprocessing\n",
    "  \n",
    "x = sb.values\n",
    "min_max_scaler = preprocessing.MinMaxScaler()\n",
    "x_scaled = min_max_scaler.fit_transform(x)\n",
    "sb = pd.DataFrame(x_scaled)"
   ]
  },
  {
   "cell_type": "code",
   "execution_count": 14,
   "metadata": {},
   "outputs": [],
   "source": [
    "sse={}"
   ]
  },
  {
   "cell_type": "code",
   "execution_count": 15,
   "metadata": {},
   "outputs": [
    {
     "data": {
      "image/png": "[encoded data removed]",
      "text/plain": [
       "<Figure size 432x288 with 1 Axes>"
      ]
     },
     "metadata": {
      "needs_background": "light"
     },
     "output_type": "display_data"
    }
   ],
   "source": [
    "from sklearn. cluster import KMeans\n",
    "import matplotlib.pyplot as plt\n",
    "import seaborn as sns\n",
    "for k in range(1, 11):\n",
    "  \n",
    "    # Initialize KMeans with k clusters and fit it \n",
    "    kmeans = KMeans(n_clusters=k, random_state=1).fit(sb)\n",
    "    \n",
    "    # Assign sum of squared distances to k element of the sse dictionary\n",
    "    sse[k] = kmeans.inertia_ \n",
    "\n",
    "# Add the plot title, x and y axis labels\n",
    "plt.title('The Elbow Method'); plt.xlabel('k'); plt.ylabel('SSE')\n",
    "\n",
    "# Plot SSE values for each k stored as keys in the dictionary\n",
    "sns.pointplot(x=list(sse.keys()), y=list(sse.values()))\n",
    "plt.show()"
   ]
  },
  {
   "cell_type": "code",
   "execution_count": 16,
   "metadata": {},
   "outputs": [],
   "source": [
    "#choosing 3 cluster"
   ]
  },
  {
   "cell_type": "code",
   "execution_count": 17,
   "metadata": {},
   "outputs": [],
   "source": [
    "# Import KMeans \n",
    "from sklearn.cluster import KMeans\n",
    "\n",
    "# Initialize KMeans\n",
    "kmeans = KMeans(n_clusters=3, random_state=1) \n",
    "\n",
    "# Fit k-means clustering on the normalized data set\n",
    "kmeans.fit(sb)\n",
    "\n",
    "# Extract cluster labels\n",
    "cluster_labels = kmeans.labels_"
   ]
  },
  {
   "cell_type": "code",
   "execution_count": 18,
   "metadata": {},
   "outputs": [
    {
     "data": {
      "text/plain": [
       "array([1, 2, 2, ..., 2, 0, 2], dtype=int32)"
      ]
     },
     "execution_count": 18,
     "metadata": {},
     "output_type": "execute_result"
    }
   ],
   "source": [
    "cluster_labels"
   ]
  },
  {
   "cell_type": "code",
   "execution_count": 19,
   "metadata": {},
   "outputs": [],
   "source": [
    "sbbbb_orginal['prediction'] = pd.Series(cluster_labels,index=sbbbb_orginal.index)"
   ]
  },
  {
   "cell_type": "code",
   "execution_count": 20,
   "metadata": {},
   "outputs": [],
   "source": [
    "sbbbb_orginal.to_csv('/Users/gavin/Desktop/marketing analytics/final_customer_segmentation/export.csv',sep=\",\",index=True,header=True)"
   ]
  },
  {
   "cell_type": "code",
   "execution_count": null,
   "metadata": {},
   "outputs": [],
   "source": []
  },
  {
   "cell_type": "code",
   "execution_count": null,
   "metadata": {},
   "outputs": [],
   "source": []
  },
  {
   "cell_type": "code",
   "execution_count": null,
   "metadata": {},
   "outputs": [],
   "source": []
  },
  {
   "cell_type": "code",
   "execution_count": null,
   "metadata": {},
   "outputs": [],
   "source": []
  }
 ],
 "metadata": {
  "kernelspec": {
   "display_name": "Python 3",
   "language": "python",
   "name": "python3"
  },
  "language_info": {
   "codemirror_mode": {
    "name": "ipython",
    "version": 3
   },
   "file_extension": ".py",
   "mimetype": "text/x-python",
   "name": "python",
   "nbconvert_exporter": "python",
   "pygments_lexer": "ipython3",
   "version": "3.8.3"
  }
 },
 "nbformat": 4,
 "nbformat_minor": 4
}
